{
 "cells": [
  {
   "cell_type": "markdown",
   "metadata": {},
   "source": [
    "# ¿Porque Python es tan popular ente los creadores?\n",
    "\n",
    "Hay tres razones por las cuales las personas prefieren Python las cuales on las siguientes:\n",
    "1. **Es muy facil de entender**\n",
    "Python ha sido rankeado por muchos expertos cmo el lenguaje de programación más fácil de aprender, esto porque con muy poco lenguaje se pueden hacer demasiadas cosas, esto ya lo he vivido en la clase de programación, no vimos tantos temas pero con lo poco que vimos fue sficiente para hacer poblemas mas grandes.\n",
    "\n",
    "2.**La explosión de la IA**\n",
    "El crecimiiento de Python tambien se ve aumentado gracias a los creadores de inteligencia artifical. Segun un analista de Forrester Python tiene demasiadas herramientos para todos estos creadores, y es el que mas les deja hacer su trabajo. Tambien menciona que este lenguaje se puede usar para casi cualquier cosa. En mi clase de programación hubo varios equipos que hicieron como proyecgto cosasinteresantes, como por ejemplo hicieorn un medidor de presión y de temperatura y otros un software para los restaurantes, todo esto con solo un semestre viendo Python, ahora dedicarle muchos años y perfeccionarlo si hace la gran diferencia.\n",
    "\n",
    "3. **La comunidad de creadores ha aumentado**\n",
    "Las librerias d Python tienen un sin fin de propsitos, y esto ha ayudado a que este creciera ya que cada vez hay mayor numero de creadores y de personas interesadas en programar, y las librerias de Python tienen solucion para casi cualquier problema que te pudiera suceder."
   ]
  },
  {
   "cell_type": "markdown",
   "metadata": {},
   "source": [
    "# ¿Porque aprender Python es importante?\n",
    "Aprender a programar es esencial en nuestras vidas, nos puede ayudar a disminuir el tiempo de un trabajo o ayudarnos a mejorar nuestras finanzas etc.\n",
    "Python es muy sencillo, algunas computadoras ya lo traen instalado y si no lo tienes instalado es tan facil como solo buscarlo y hacer unos cuantos clicks para descargarlo. Las capacidades de Python van desde lo mas sencillo como programar una suma o calcular los precios de un objeto hasta niveles ya mas altos como programar un juego, o un calculo para trabes y columnas de algun edificio o casa.\n",
    "    Si trabajas en algun lugar y requieren todos mas conocimiento de Python, claro que vale la pena tomar un curso o una capacitación para este, muchos negocios pueden crecer si los empleados fueran mas rapdidos y eficientes y el leguaje Python es algo que los puede ayudar mucho en esos aspectos.\n",
    "    "
   ]
  },
  {
   "cell_type": "markdown",
   "metadata": {},
   "source": [
    "*Conclusión:*\n",
    "    Al principio puede parecer muy dificil y tedioso pero en cuanto se va agarrando práctica en el lenguaje y aprendes mas conceptos este se vuelve muy sencillo y los empleados de la empresa se vulven mas competentes entre ellos y esto ayuda a crecer la mpreza y a ellos mismos."
   ]
  }
 ],
 "metadata": {
  "kernelspec": {
   "display_name": "Python 3",
   "language": "python",
   "name": "python3"
  },
  "language_info": {
   "codemirror_mode": {
    "name": "ipython",
    "version": 3
   },
   "file_extension": ".py",
   "mimetype": "text/x-python",
   "name": "python",
   "nbconvert_exporter": "python",
   "pygments_lexer": "ipython3",
   "version": "3.7.3"
  }
 },
 "nbformat": 4,
 "nbformat_minor": 2
}
